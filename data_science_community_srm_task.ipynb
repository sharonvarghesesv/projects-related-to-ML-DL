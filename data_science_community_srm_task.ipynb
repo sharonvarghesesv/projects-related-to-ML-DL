{
  "cells": [
    {
      "cell_type": "markdown",
      "metadata": {
        "id": "view-in-github",
        "colab_type": "text"
      },
      "source": [
        "<a href=\"https://colab.research.google.com/github/sharonvarghesesv/projects-related-to-ML-DL/blob/main/data_science_community_srm_task.ipynb\" target=\"_parent\"><img src=\"https://colab.research.google.com/assets/colab-badge.svg\" alt=\"Open In Colab\"/></a>"
      ]
    },
    {
      "cell_type": "code",
      "execution_count": null,
      "metadata": {
        "id": "1la1nIUEmZvB"
      },
      "outputs": [],
      "source": [
        "import tensorflow as tf\n",
        "from keras.preprocessing.image import ImageDataGenerator"
      ]
    },
    {
      "cell_type": "code",
      "execution_count": null,
      "metadata": {
        "id": "PcyOWDu3mZvF",
        "outputId": "04f4e7cf-960a-4da0-8c2c-ef411940d49c"
      },
      "outputs": [
        {
          "name": "stdout",
          "output_type": "stream",
          "text": [
            "Found 2382 images belonging to 2 classes.\n"
          ]
        }
      ],
      "source": [
        "train_datagen = ImageDataGenerator(rescale = 1./255,\n",
        "                                   shear_range = 0.2,\n",
        "                                   zoom_range = 0.2,\n",
        "                                   horizontal_flip = True)\n",
        "training_set = train_datagen.flow_from_directory('Dataset 1/train data',\n",
        "                                                 target_size = (150,150),\n",
        "                                                 batch_size = 32,\n",
        "                                                 class_mode = 'binary')"
      ]
    },
    {
      "cell_type": "code",
      "execution_count": null,
      "metadata": {
        "id": "bdp1KKg5mZvG",
        "outputId": "b6bd0c00-4908-4bb9-85ae-c36ae5711baa"
      },
      "outputs": [
        {
          "name": "stdout",
          "output_type": "stream",
          "text": [
            "Found 1116 images belonging to 2 classes.\n"
          ]
        }
      ],
      "source": [
        "test_datagen = ImageDataGenerator(rescale = 1./255)\n",
        "test_set = test_datagen.flow_from_directory('Dataset 1/test data',\n",
        "                                            target_size = (150,150),\n",
        "                                            batch_size = 32,\n",
        "                                            class_mode = 'binary')"
      ]
    },
    {
      "cell_type": "code",
      "execution_count": null,
      "metadata": {
        "id": "UqUt4lxSmZvH"
      },
      "outputs": [],
      "source": [
        "cnn = tf.keras.models.Sequential()"
      ]
    },
    {
      "cell_type": "code",
      "execution_count": null,
      "metadata": {
        "id": "Kfm5EqeFmZvH"
      },
      "outputs": [],
      "source": [
        "cnn.add(tf.keras.layers.Conv2D(filters=32, kernel_size=3, activation='relu', input_shape=[150, 150, 3]))"
      ]
    },
    {
      "cell_type": "code",
      "execution_count": null,
      "metadata": {
        "id": "rmQOTeoRmZvI"
      },
      "outputs": [],
      "source": [
        "cnn.add(tf.keras.layers.MaxPool2D(pool_size=2, strides=2))"
      ]
    },
    {
      "cell_type": "code",
      "execution_count": null,
      "metadata": {
        "id": "sJ-TUkKbmZvI"
      },
      "outputs": [],
      "source": [
        "cnn.add(tf.keras.layers.Conv2D(filters=32, kernel_size=3, activation='relu'))\n",
        "cnn.add(tf.keras.layers.MaxPool2D(pool_size=2, strides=2))"
      ]
    },
    {
      "cell_type": "code",
      "execution_count": null,
      "metadata": {
        "id": "mmp9Ko5NmZvJ"
      },
      "outputs": [],
      "source": [
        "cnn.add(tf.keras.layers.Flatten())"
      ]
    },
    {
      "cell_type": "code",
      "execution_count": null,
      "metadata": {
        "id": "qh3cTce5mZvK"
      },
      "outputs": [],
      "source": [
        "cnn.add(tf.keras.layers.Dense(units=128, activation='relu'))"
      ]
    },
    {
      "cell_type": "code",
      "execution_count": null,
      "metadata": {
        "id": "wLuLM-dpmZvK"
      },
      "outputs": [],
      "source": [
        "cnn.add(tf.keras.layers.Dense(units=1, activation='sigmoid'))"
      ]
    },
    {
      "cell_type": "code",
      "execution_count": null,
      "metadata": {
        "id": "OR_hLpvDmZvL"
      },
      "outputs": [],
      "source": [
        "cnn.compile(optimizer = 'adam', loss = 'binary_crossentropy', metrics = ['accuracy'])"
      ]
    },
    {
      "cell_type": "code",
      "execution_count": null,
      "metadata": {
        "id": "P2KoFeSSmZvL",
        "outputId": "2a20692e-fa30-4dcd-d317-741e005e0687"
      },
      "outputs": [
        {
          "name": "stdout",
          "output_type": "stream",
          "text": [
            "Epoch 1/25\n",
            "75/75 [==============================] - 88s 1s/step - loss: 0.4855 - accuracy: 0.8342 - val_loss: 0.2368 - val_accuracy: 0.9086\n",
            "Epoch 2/25\n",
            "75/75 [==============================] - 65s 864ms/step - loss: 0.2240 - accuracy: 0.9160 - val_loss: 0.2178 - val_accuracy: 0.9113\n",
            "Epoch 3/25\n",
            "75/75 [==============================] - 55s 728ms/step - loss: 0.1575 - accuracy: 0.9400 - val_loss: 0.1196 - val_accuracy: 0.9597\n",
            "Epoch 4/25\n",
            "75/75 [==============================] - 53s 700ms/step - loss: 0.1277 - accuracy: 0.9526 - val_loss: 0.1104 - val_accuracy: 0.9588\n",
            "Epoch 5/25\n",
            "75/75 [==============================] - 54s 713ms/step - loss: 0.1437 - accuracy: 0.9479 - val_loss: 0.1087 - val_accuracy: 0.9561\n",
            "Epoch 6/25\n",
            "75/75 [==============================] - 53s 703ms/step - loss: 0.1269 - accuracy: 0.9555 - val_loss: 0.1004 - val_accuracy: 0.9677\n",
            "Epoch 7/25\n",
            "75/75 [==============================] - 59s 777ms/step - loss: 0.1005 - accuracy: 0.9647 - val_loss: 0.1245 - val_accuracy: 0.9516\n",
            "Epoch 8/25\n",
            "75/75 [==============================] - 57s 755ms/step - loss: 0.1013 - accuracy: 0.9664 - val_loss: 0.1329 - val_accuracy: 0.9507\n",
            "Epoch 9/25\n",
            "75/75 [==============================] - 61s 812ms/step - loss: 0.0824 - accuracy: 0.9694 - val_loss: 0.1060 - val_accuracy: 0.9659\n",
            "Epoch 10/25\n",
            "75/75 [==============================] - 54s 716ms/step - loss: 0.0863 - accuracy: 0.9681 - val_loss: 0.0957 - val_accuracy: 0.9651\n",
            "Epoch 11/25\n",
            "75/75 [==============================] - 53s 708ms/step - loss: 0.0805 - accuracy: 0.9710 - val_loss: 0.1042 - val_accuracy: 0.9668\n",
            "Epoch 12/25\n",
            "75/75 [==============================] - 54s 718ms/step - loss: 0.0654 - accuracy: 0.9761 - val_loss: 0.0998 - val_accuracy: 0.9713\n",
            "Epoch 13/25\n",
            "75/75 [==============================] - 54s 715ms/step - loss: 0.0750 - accuracy: 0.9723 - val_loss: 0.0960 - val_accuracy: 0.9731\n",
            "Epoch 14/25\n",
            "75/75 [==============================] - 57s 756ms/step - loss: 0.0628 - accuracy: 0.9786 - val_loss: 0.0970 - val_accuracy: 0.9713\n",
            "Epoch 15/25\n",
            "75/75 [==============================] - 54s 718ms/step - loss: 0.0786 - accuracy: 0.9698 - val_loss: 0.1102 - val_accuracy: 0.9642\n",
            "Epoch 16/25\n",
            "75/75 [==============================] - 55s 726ms/step - loss: 0.0523 - accuracy: 0.9824 - val_loss: 0.1189 - val_accuracy: 0.9677\n",
            "Epoch 17/25\n",
            "75/75 [==============================] - 54s 718ms/step - loss: 0.0450 - accuracy: 0.9861 - val_loss: 0.1044 - val_accuracy: 0.9713\n",
            "Epoch 18/25\n",
            "75/75 [==============================] - 55s 730ms/step - loss: 0.0532 - accuracy: 0.9815 - val_loss: 0.1104 - val_accuracy: 0.9722\n",
            "Epoch 19/25\n",
            "75/75 [==============================] - 54s 720ms/step - loss: 0.0509 - accuracy: 0.9798 - val_loss: 0.1165 - val_accuracy: 0.9758\n",
            "Epoch 20/25\n",
            "75/75 [==============================] - 54s 714ms/step - loss: 0.0439 - accuracy: 0.9840 - val_loss: 0.0996 - val_accuracy: 0.9722\n",
            "Epoch 21/25\n",
            "75/75 [==============================] - 54s 719ms/step - loss: 0.0346 - accuracy: 0.9882 - val_loss: 0.3908 - val_accuracy: 0.9122\n",
            "Epoch 22/25\n",
            "75/75 [==============================] - 56s 736ms/step - loss: 0.0784 - accuracy: 0.9723 - val_loss: 0.1141 - val_accuracy: 0.9695\n",
            "Epoch 23/25\n",
            "75/75 [==============================] - 54s 715ms/step - loss: 0.0419 - accuracy: 0.9853 - val_loss: 0.1356 - val_accuracy: 0.9651\n",
            "Epoch 24/25\n",
            "75/75 [==============================] - 56s 751ms/step - loss: 0.0384 - accuracy: 0.9866 - val_loss: 0.1086 - val_accuracy: 0.9749\n",
            "Epoch 25/25\n",
            "75/75 [==============================] - 56s 742ms/step - loss: 0.0294 - accuracy: 0.9912 - val_loss: 0.1120 - val_accuracy: 0.9749\n"
          ]
        },
        {
          "data": {
            "text/plain": [
              "<keras.callbacks.History at 0x27e24f68340>"
            ]
          },
          "execution_count": 54,
          "metadata": {},
          "output_type": "execute_result"
        }
      ],
      "source": [
        "cnn.fit(x=training_set,validation_data =test_set, epochs = 25)"
      ]
    },
    {
      "cell_type": "code",
      "execution_count": null,
      "metadata": {
        "id": "ETVXDdySmZvL"
      },
      "outputs": [],
      "source": [
        "import pandas as pd\n",
        "loss=pd.DataFrame(cnn.history.history)\n"
      ]
    },
    {
      "cell_type": "code",
      "execution_count": null,
      "metadata": {
        "id": "XNLhTEQlmZvM",
        "outputId": "29a4bc62-00c1-4d87-f45c-bde30afa121d"
      },
      "outputs": [
        {
          "data": {
            "text/plain": [
              "<AxesSubplot:>"
            ]
          },
          "execution_count": 57,
          "metadata": {},
          "output_type": "execute_result"
        },
        {
          "data": {
            "image/png": "[encoded data removed]",
            "text/plain": [
              "<Figure size 432x288 with 1 Axes>"
            ]
          },
          "metadata": {
            "needs_background": "light"
          },
          "output_type": "display_data"
        }
      ],
      "source": [
        "loss.plot()"
      ]
    },
    {
      "cell_type": "code",
      "execution_count": null,
      "metadata": {
        "id": "TZi45wqPmZvM",
        "outputId": "0d58475f-3b1f-4298-8194-6ee4b4e7e535"
      },
      "outputs": [
        {
          "name": "stdout",
          "output_type": "stream",
          "text": [
            "1/1 [==============================] - 0s 56ms/step\n"
          ]
        }
      ],
      "source": [
        "import numpy as np\n",
        "from tensorflow.keras.preprocessing import image\n",
        "test_image = image.load_img(\"C:/Users/hp/Downloads/FOREST SAMPLE (1).jpg\", target_size = (150, 150))\n",
        "test_image = image.img_to_array(test_image)\n",
        "test_image = np.expand_dims(test_image, axis = 0)\n",
        "result = cnn.predict(test_image)\n",
        "training_set.class_indices\n",
        "if result[0][0] == 1:\n",
        "    prediction = 'forest'\n",
        "else:\n",
        "    prediction = 'building'"
      ]
    },
    {
      "cell_type": "code",
      "execution_count": null,
      "metadata": {
        "id": "ceKRaMnbmZvN",
        "outputId": "2e3c0e39-3ac0-4d3f-e27d-cc42e6d28877"
      },
      "outputs": [
        {
          "name": "stdout",
          "output_type": "stream",
          "text": [
            "forest\n"
          ]
        }
      ],
      "source": [
        "print(prediction)"
      ]
    },
    {
      "cell_type": "code",
      "execution_count": null,
      "metadata": {
        "id": "GMQWNpB5mZvN"
      },
      "outputs": [],
      "source": []
    }
  ],
  "metadata": {
    "kernelspec": {
      "display_name": "Python 3",
      "language": "python",
      "name": "python3"
    },
    "language_info": {
      "codemirror_mode": {
        "name": "ipython",
        "version": 3
      },
      "file_extension": ".py",
      "mimetype": "text/x-python",
      "name": "python",
      "nbconvert_exporter": "python",
      "pygments_lexer": "ipython3",
      "version": "3.8.5"
    },
    "colab": {
      "provenance": [],
      "include_colab_link": true
    }
  },
  "nbformat": 4,
  "nbformat_minor": 0
}